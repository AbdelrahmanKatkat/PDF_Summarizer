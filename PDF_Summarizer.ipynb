{
  "nbformat": 4,
  "nbformat_minor": 0,
  "metadata": {
    "colab": {
      "provenance": [],
      "toc_visible": true
    },
    "kernelspec": {
      "name": "python3",
      "display_name": "Python 3"
    },
    "language_info": {
      "name": "python"
    }
  },
  "cells": [
    {
      "cell_type": "markdown",
      "source": [
        "# <font color='blue' size='5px'>Problem Statement</font>"
      ],
      "metadata": {
        "id": "s8MdiLbThYXZ"
      }
    },
    {
      "cell_type": "markdown",
      "source": [
        "The primary objective of the project is to generate comprehensive summaries from a variety of PDF documents written in different languages and accurately extract specific information. You have the flexibility to adjust the prompt and input directory to initiate a distinct project."
      ],
      "metadata": {
        "id": "Pu3qsW55iEIH"
      }
    },
    {
      "cell_type": "markdown",
      "source": [
        "**Technical test details:**\n",
        "\n",
        "1. **Connecting to the Google Vision:** Your task will be to connect to the Google Vision API and perform specific operations. Please be sure to follow the instructions provided in the attached document.\n",
        "\n",
        "2. **Extracting information from PDF documents:** You will be prompted to extract the following information from the provided PDF documents:\n",
        "  - Deed Number\n",
        "  - Real Estate License Plates\n",
        "  - Acts\n",
        "  - Grantors\n",
        "  - Beneficiaries\n",
        "  - Values\n",
        "  - Identity Document Numbers"
      ],
      "metadata": {
        "id": "Eg9LbQVuEM8E"
      }
    },
    {
      "cell_type": "code",
      "source": [
        "#@title Prompt_Required\n",
        "#@markdown Edit the prompt based on requriement ( List format & Requirement)\n",
        "\n",
        "\n",
        "Prompt = \"(1. Deed Number, 2. Real Estate, 3. License Plates, 4. Acts, Grantors, 5. Beneficiaries, 6. Values, 7. Identity Document Numbers) and put NA if not applicable\\\")\"  #@param {type: \"string\"}\n",
        "\n",
        "#@markdown ---\n"
      ],
      "metadata": {
        "cellView": "form",
        "id": "taf5bEkmi-i1"
      },
      "execution_count": null,
      "outputs": []
    },
    {
      "cell_type": "markdown",
      "source": [
        "# 1 Packages"
      ],
      "metadata": {
        "id": "prTuypS3w22v"
      }
    },
    {
      "cell_type": "code",
      "source": [
        "!pip install opencv-python"
      ],
      "metadata": {
        "colab": {
          "base_uri": "https://localhost:8080/"
        },
        "id": "hqVN-8VqxC77",
        "outputId": "3175a4d9-5ab4-4402-c5f2-60c367bf9d27"
      },
      "execution_count": null,
      "outputs": [
        {
          "output_type": "stream",
          "name": "stdout",
          "text": [
            "Requirement already satisfied: opencv-python in /usr/local/lib/python3.10/dist-packages (4.8.0.76)\n",
            "Requirement already satisfied: numpy>=1.21.2 in /usr/local/lib/python3.10/dist-packages (from opencv-python) (1.23.5)\n"
          ]
        }
      ]
    },
    {
      "cell_type": "code",
      "source": [
        "!pip install pytesseract"
      ],
      "metadata": {
        "colab": {
          "base_uri": "https://localhost:8080/"
        },
        "id": "BvbydXx_zIbZ",
        "outputId": "60b8ad2f-0cf8-4af1-abd7-e2fdee7d9ccd"
      },
      "execution_count": null,
      "outputs": [
        {
          "output_type": "stream",
          "name": "stdout",
          "text": [
            "Collecting pytesseract\n",
            "  Downloading pytesseract-0.3.10-py3-none-any.whl (14 kB)\n",
            "Requirement already satisfied: packaging>=21.3 in /usr/local/lib/python3.10/dist-packages (from pytesseract) (23.2)\n",
            "Requirement already satisfied: Pillow>=8.0.0 in /usr/local/lib/python3.10/dist-packages (from pytesseract) (9.4.0)\n",
            "Installing collected packages: pytesseract\n",
            "Successfully installed pytesseract-0.3.10\n"
          ]
        }
      ]
    },
    {
      "cell_type": "code",
      "source": [
        "!sudo apt install tesseract-ocr"
      ],
      "metadata": {
        "colab": {
          "base_uri": "https://localhost:8080/"
        },
        "id": "JS3rfvMv0n06",
        "outputId": "6a93c4c4-2c9c-4b7c-cec1-1feb6ac10aff"
      },
      "execution_count": null,
      "outputs": [
        {
          "output_type": "stream",
          "name": "stdout",
          "text": [
            "Reading package lists... Done\n",
            "Building dependency tree... Done\n",
            "Reading state information... Done\n",
            "The following additional packages will be installed:\n",
            "  tesseract-ocr-eng tesseract-ocr-osd\n",
            "The following NEW packages will be installed:\n",
            "  tesseract-ocr tesseract-ocr-eng tesseract-ocr-osd\n",
            "0 upgraded, 3 newly installed, 0 to remove and 31 not upgraded.\n",
            "Need to get 4,816 kB of archives.\n",
            "After this operation, 15.6 MB of additional disk space will be used.\n",
            "Get:1 http://archive.ubuntu.com/ubuntu jammy/universe amd64 tesseract-ocr-eng all 1:4.00~git30-7274cfa-1.1 [1,591 kB]\n",
            "Get:2 http://archive.ubuntu.com/ubuntu jammy/universe amd64 tesseract-ocr-osd all 1:4.00~git30-7274cfa-1.1 [2,990 kB]\n",
            "Get:3 http://archive.ubuntu.com/ubuntu jammy/universe amd64 tesseract-ocr amd64 4.1.1-2.1build1 [236 kB]\n",
            "Fetched 4,816 kB in 0s (13.4 MB/s)\n",
            "debconf: unable to initialize frontend: Dialog\n",
            "debconf: (No usable dialog-like program is installed, so the dialog based frontend cannot be used. at /usr/share/perl5/Debconf/FrontEnd/Dialog.pm line 78, <> line 3.)\n",
            "debconf: falling back to frontend: Readline\n",
            "debconf: unable to initialize frontend: Readline\n",
            "debconf: (This frontend requires a controlling tty.)\n",
            "debconf: falling back to frontend: Teletype\n",
            "dpkg-preconfigure: unable to re-open stdin: \n",
            "Selecting previously unselected package tesseract-ocr-eng.\n",
            "(Reading database ... 121730 files and directories currently installed.)\n",
            "Preparing to unpack .../tesseract-ocr-eng_1%3a4.00~git30-7274cfa-1.1_all.deb ...\n",
            "Unpacking tesseract-ocr-eng (1:4.00~git30-7274cfa-1.1) ...\n",
            "Selecting previously unselected package tesseract-ocr-osd.\n",
            "Preparing to unpack .../tesseract-ocr-osd_1%3a4.00~git30-7274cfa-1.1_all.deb ...\n",
            "Unpacking tesseract-ocr-osd (1:4.00~git30-7274cfa-1.1) ...\n",
            "Selecting previously unselected package tesseract-ocr.\n",
            "Preparing to unpack .../tesseract-ocr_4.1.1-2.1build1_amd64.deb ...\n",
            "Unpacking tesseract-ocr (4.1.1-2.1build1) ...\n",
            "Setting up tesseract-ocr-eng (1:4.00~git30-7274cfa-1.1) ...\n",
            "Setting up tesseract-ocr-osd (1:4.00~git30-7274cfa-1.1) ...\n",
            "Setting up tesseract-ocr (4.1.1-2.1build1) ...\n",
            "Processing triggers for man-db (2.10.2-1) ...\n"
          ]
        }
      ]
    },
    {
      "cell_type": "code",
      "source": [
        "!pip install pymupdf"
      ],
      "metadata": {
        "colab": {
          "base_uri": "https://localhost:8080/"
        },
        "id": "pGlGFRNjyZzD",
        "outputId": "9e21f871-5ebe-4096-a01a-98b89dc7e908"
      },
      "execution_count": null,
      "outputs": [
        {
          "output_type": "stream",
          "name": "stdout",
          "text": [
            "Collecting pymupdf\n",
            "  Downloading PyMuPDF-1.23.20-cp310-none-manylinux2014_x86_64.whl (4.4 MB)\n",
            "\u001b[2K     \u001b[90m━━━━━━━━━━━━━━━━━━━━━━━━━━━━━━━━━━━━━━━━\u001b[0m \u001b[32m4.4/4.4 MB\u001b[0m \u001b[31m13.5 MB/s\u001b[0m eta \u001b[36m0:00:00\u001b[0m\n",
            "\u001b[?25hCollecting PyMuPDFb==1.23.9 (from pymupdf)\n",
            "  Downloading PyMuPDFb-1.23.9-py3-none-manylinux2014_x86_64.manylinux_2_17_x86_64.whl (30.6 MB)\n",
            "\u001b[2K     \u001b[90m━━━━━━━━━━━━━━━━━━━━━━━━━━━━━━━━━━━━━━━━\u001b[0m \u001b[32m30.6/30.6 MB\u001b[0m \u001b[31m40.8 MB/s\u001b[0m eta \u001b[36m0:00:00\u001b[0m\n",
            "\u001b[?25hInstalling collected packages: PyMuPDFb, pymupdf\n",
            "Successfully installed PyMuPDFb-1.23.9 pymupdf-1.23.20\n"
          ]
        }
      ]
    },
    {
      "cell_type": "code",
      "source": [
        "from PIL import Image\n",
        "import cv2\n",
        "import re\n",
        "import numpy as np\n",
        "import pandas as pd\n",
        "import matplotlib.pyplot as plt"
      ],
      "metadata": {
        "id": "akmsMxJSEFIT"
      },
      "execution_count": null,
      "outputs": []
    },
    {
      "cell_type": "code",
      "source": [
        "import pytesseract\n",
        "from pytesseract import Output"
      ],
      "metadata": {
        "id": "MuHCCwSBzLzH"
      },
      "execution_count": null,
      "outputs": []
    },
    {
      "cell_type": "code",
      "source": [
        "import os"
      ],
      "metadata": {
        "id": "Hiii_MjEzbWt"
      },
      "execution_count": null,
      "outputs": []
    },
    {
      "cell_type": "code",
      "source": [
        "from google.colab import drive\n",
        "drive.mount('/content/drive')"
      ],
      "metadata": {
        "colab": {
          "base_uri": "https://localhost:8080/"
        },
        "id": "uHFzPZgGw-Vw",
        "outputId": "b7c4cf60-3b35-4a98-aef9-295556a18ecf"
      },
      "execution_count": null,
      "outputs": [
        {
          "output_type": "stream",
          "name": "stdout",
          "text": [
            "Mounted at /content/drive\n"
          ]
        }
      ]
    },
    {
      "cell_type": "code",
      "source": [
        "from IPython.display import Video,YouTubeVideo,HTML\n"
      ],
      "metadata": {
        "id": "V1aM6ckA_Eee"
      },
      "execution_count": null,
      "outputs": []
    },
    {
      "cell_type": "code",
      "source": [
        "from PIL import Image"
      ],
      "metadata": {
        "id": "hTbrhIlJfKDf"
      },
      "execution_count": null,
      "outputs": []
    },
    {
      "cell_type": "markdown",
      "source": [
        "# 2 Load Pdf as Images"
      ],
      "metadata": {
        "id": "3jRcA68byequ"
      }
    },
    {
      "cell_type": "code",
      "source": [
        "#@title Input Directories\n",
        "#@markdown Input pdf dir and dir to store images\n",
        "\n",
        "\n",
        "input_dir = '/content/drive/MyDrive/Work/Interview/Evalumine/Data'  #@param {type: \"string\"}\n",
        "output_dir= '/content/drive/MyDrive/Work/Interview/Evalumine/PDFs_TO_Images'  #@param {type: \"string\"}\n",
        "\n",
        "#@markdown ---\n"
      ],
      "metadata": {
        "cellView": "form",
        "id": "QhpNZ7PC80cW"
      },
      "execution_count": null,
      "outputs": []
    },
    {
      "cell_type": "markdown",
      "source": [
        "## Extract PDFs Directory"
      ],
      "metadata": {
        "id": "llH-IbEV3HF5"
      }
    },
    {
      "cell_type": "code",
      "source": [
        "pdf_basenames = os.listdir(input_dir)"
      ],
      "metadata": {
        "id": "AW7JtKcqsiQo"
      },
      "execution_count": null,
      "outputs": []
    },
    {
      "cell_type": "code",
      "source": [
        "pdf_dirs=[]\n",
        "for basename in pdf_basenames:\n",
        "  if basename not in ['__MACOSX']:\n",
        "    temp = os.path.join(input_dir,basename)\n",
        "    pdf_dirs.append(temp)"
      ],
      "metadata": {
        "id": "RQFHbJ2athA6"
      },
      "execution_count": null,
      "outputs": []
    },
    {
      "cell_type": "code",
      "source": [
        "for i in range(len(pdf_basenames)-1):\n",
        "  if os.path.exists(pdf_dirs[i]):\n",
        "      print('it exist')"
      ],
      "metadata": {
        "colab": {
          "base_uri": "https://localhost:8080/"
        },
        "id": "uYuKT9ag1h0n",
        "outputId": "77a62159-3eec-4aea-c123-0aaab6658d67"
      },
      "execution_count": null,
      "outputs": [
        {
          "output_type": "stream",
          "name": "stdout",
          "text": [
            "it exist\n",
            "it exist\n",
            "it exist\n",
            "it exist\n",
            "it exist\n"
          ]
        }
      ]
    },
    {
      "cell_type": "markdown",
      "source": [
        "## Make Directory for images from PDF"
      ],
      "metadata": {
        "id": "vQYTwqGx3NvS"
      }
    },
    {
      "cell_type": "code",
      "source": [
        "pdf2image_dir=[]\n",
        "for basename in pdf_dirs:\n",
        "  file_path, file_extension = os.path.splitext(basename)\n",
        "  file_name = os.path.basename(file_path)\n",
        "  temp = os.path.join(output_dir, file_name)\n",
        "  pdf2image_dir.append(temp)"
      ],
      "metadata": {
        "id": "U--xC-NmuDLX"
      },
      "execution_count": null,
      "outputs": []
    },
    {
      "cell_type": "code",
      "source": [
        "for dir in pdf2image_dir:\n",
        "  # Replace 'path_to_image_directory' with the desired path for the image directory\n",
        "  files_directory = dir\n",
        "\n",
        "  # Create the directory if it doesn't exist\n",
        "  if not os.path.exists(files_directory):\n",
        "      os.makedirs(files_directory)\n",
        "      print(f\"Directory '{files_directory}' created successfully\")\n",
        "  else:\n",
        "      print(f\"Directory '{files_directory}' already exists\")\n"
      ],
      "metadata": {
        "colab": {
          "base_uri": "https://localhost:8080/"
        },
        "id": "4qXgKb9ByuCm",
        "outputId": "4587712a-8dfe-4431-a4de-232ff90dc2d3"
      },
      "execution_count": null,
      "outputs": [
        {
          "output_type": "stream",
          "name": "stdout",
          "text": [
            "Directory '/content/drive/MyDrive/Work/Interview/Evalumine/PDFs_TO_Images/CAL1013236' created successfully\n",
            "Directory '/content/drive/MyDrive/Work/Interview/Evalumine/PDFs_TO_Images/CAL1013206' created successfully\n",
            "Directory '/content/drive/MyDrive/Work/Interview/Evalumine/PDFs_TO_Images/CAL1013132' created successfully\n",
            "Directory '/content/drive/MyDrive/Work/Interview/Evalumine/PDFs_TO_Images/CAL1013093' created successfully\n",
            "Directory '/content/drive/MyDrive/Work/Interview/Evalumine/PDFs_TO_Images/CAL1013016' created successfully\n"
          ]
        }
      ]
    },
    {
      "cell_type": "markdown",
      "source": [
        "## Extract Images from PDFs"
      ],
      "metadata": {
        "id": "eC2GLGXc3avS"
      }
    },
    {
      "cell_type": "code",
      "source": [
        "import fitz  # PyMuPDF\n",
        "\n",
        "def extract_images_from_pdf(pdf_path, image_folder):\n",
        "    pdf_document = fitz.open(pdf_path)\n",
        "    for page_number in range(pdf_document.page_count):\n",
        "        page = pdf_document.load_page(page_number)\n",
        "        image_list = page.get_images(full=True)\n",
        "        for img_index, img_info in enumerate(image_list):\n",
        "            xref = img_info[0]\n",
        "            base_image = pdf_document.extract_image(xref)\n",
        "            image_bytes = base_image[\"image\"]\n",
        "            image_name = f\"{image_folder}/page{page_number}_image{img_index}.png\"\n",
        "            with open(image_name, \"wb\") as image_file:\n",
        "                image_file.write(image_bytes)"
      ],
      "metadata": {
        "id": "c6plteI6IUA5"
      },
      "execution_count": null,
      "outputs": []
    },
    {
      "cell_type": "code",
      "source": [
        "for pdf_dir, image_dir in zip(pdf_dirs, pdf2image_dir):\n",
        "  print(f\"Current Pdf:{pdf_dir}\")\n",
        "  print(f\"current output dir:{image_dir}\")\n",
        "  extract_images_from_pdf(pdf_dir, image_dir)"
      ],
      "metadata": {
        "colab": {
          "base_uri": "https://localhost:8080/"
        },
        "id": "0zVEXvo45F2o",
        "outputId": "1af1eadb-53e4-4b1e-b428-abaea4b9f1fc"
      },
      "execution_count": null,
      "outputs": [
        {
          "output_type": "stream",
          "name": "stdout",
          "text": [
            "Current Pdf:/content/drive/MyDrive/Work/Interview/Evalumine/Data/CAL1013236.pdf\n",
            "current output dir:/content/drive/MyDrive/Work/Interview/Evalumine/PDFs_TO_Images/CAL1013236\n",
            "Current Pdf:/content/drive/MyDrive/Work/Interview/Evalumine/Data/CAL1013206.pdf\n",
            "current output dir:/content/drive/MyDrive/Work/Interview/Evalumine/PDFs_TO_Images/CAL1013206\n",
            "Current Pdf:/content/drive/MyDrive/Work/Interview/Evalumine/Data/CAL1013132.pdf\n",
            "current output dir:/content/drive/MyDrive/Work/Interview/Evalumine/PDFs_TO_Images/CAL1013132\n",
            "Current Pdf:/content/drive/MyDrive/Work/Interview/Evalumine/Data/CAL1013093.pdf\n",
            "current output dir:/content/drive/MyDrive/Work/Interview/Evalumine/PDFs_TO_Images/CAL1013093\n",
            "Current Pdf:/content/drive/MyDrive/Work/Interview/Evalumine/Data/CAL1013016.pdf\n",
            "current output dir:/content/drive/MyDrive/Work/Interview/Evalumine/PDFs_TO_Images/CAL1013016\n"
          ]
        }
      ]
    },
    {
      "cell_type": "markdown",
      "source": [
        "## PDF Directionary Dict"
      ],
      "metadata": {
        "id": "MVumgnnlSCZC"
      }
    },
    {
      "cell_type": "code",
      "source": [
        "pdf_basenames"
      ],
      "metadata": {
        "colab": {
          "base_uri": "https://localhost:8080/"
        },
        "id": "GIb9OK7YTvP4",
        "outputId": "66c0556d-08db-4514-ce17-150f85a4252e"
      },
      "execution_count": null,
      "outputs": [
        {
          "output_type": "execute_result",
          "data": {
            "text/plain": [
              "['CAL1013236.pdf',\n",
              " 'CAL1013206.pdf',\n",
              " 'CAL1013132.pdf',\n",
              " 'CAL1013093.pdf',\n",
              " 'CAL1013016.pdf',\n",
              " '__MACOSX']"
            ]
          },
          "metadata": {},
          "execution_count": 15
        }
      ]
    },
    {
      "cell_type": "code",
      "source": [
        "pdf_dict = {name.replace('.pdf', ''): [] for name in pdf_basenames if name != '__MACOSX'}\n"
      ],
      "metadata": {
        "id": "o_AU2Y29UHL8"
      },
      "execution_count": null,
      "outputs": []
    },
    {
      "cell_type": "code",
      "source": [
        "pdf_dict"
      ],
      "metadata": {
        "colab": {
          "base_uri": "https://localhost:8080/"
        },
        "id": "ND17LRq7WAbh",
        "outputId": "29551364-b907-4338-d83c-3c098d324228"
      },
      "execution_count": null,
      "outputs": [
        {
          "output_type": "execute_result",
          "data": {
            "text/plain": [
              "{'CAL1013236': [],\n",
              " 'CAL1013206': [],\n",
              " 'CAL1013132': [],\n",
              " 'CAL1013093': [],\n",
              " 'CAL1013016': []}"
            ]
          },
          "metadata": {},
          "execution_count": 17
        }
      ]
    },
    {
      "cell_type": "code",
      "source": [
        "pdf_names=list(pdf_dict.keys())"
      ],
      "metadata": {
        "id": "wGM3d5GLUmJW"
      },
      "execution_count": null,
      "outputs": []
    },
    {
      "cell_type": "code",
      "source": [
        "pdf_names"
      ],
      "metadata": {
        "colab": {
          "base_uri": "https://localhost:8080/"
        },
        "id": "09Yz63tFWGjn",
        "outputId": "387f33f9-394f-4620-8f63-d575b179be66"
      },
      "execution_count": null,
      "outputs": [
        {
          "output_type": "execute_result",
          "data": {
            "text/plain": [
              "['CAL1013236', 'CAL1013206', 'CAL1013132', 'CAL1013093', 'CAL1013016']"
            ]
          },
          "metadata": {},
          "execution_count": 19
        }
      ]
    },
    {
      "cell_type": "code",
      "source": [
        "i=0\n",
        "for dir in pdf2image_dir:\n",
        "  images_names=os.listdir(dir)\n",
        "  for basename in images_names:\n",
        "    temp = os.path.join(dir,basename)\n",
        "    pdf_dict[pdf_names[i]].append(temp)\n",
        "  i=i+1"
      ],
      "metadata": {
        "id": "vjh2E48_QplP"
      },
      "execution_count": null,
      "outputs": []
    },
    {
      "cell_type": "markdown",
      "source": [
        "# 3 Gemini OCR & Enitity Extraction"
      ],
      "metadata": {
        "id": "3Ggq5RuEHFQP"
      }
    },
    {
      "cell_type": "markdown",
      "source": [
        "I have utilized the Gemini Vision model for text extraction from images, and I have employed Gemini Pro for information extraction. While the model did not extract results from all the pages, it generally performs well considering it is a free model. I stored the data in an Excel sheet and automated the process to run through all the PDFs. However, a notable issue is the significant amount of time it takes when processing large PDFs."
      ],
      "metadata": {
        "id": "FlhX5Ylcmb5h"
      }
    },
    {
      "cell_type": "markdown",
      "source": [],
      "metadata": {
        "id": "vFhzurfiiSin"
      }
    },
    {
      "cell_type": "code",
      "execution_count": null,
      "metadata": {
        "id": "9OEoeosRTv-5"
      },
      "outputs": [],
      "source": [
        "!pip install -q -U google-generativeai"
      ]
    },
    {
      "cell_type": "code",
      "execution_count": null,
      "metadata": {
        "id": "TS9l5igubpHO"
      },
      "outputs": [],
      "source": [
        "import pathlib\n",
        "import textwrap\n",
        "\n",
        "import google.generativeai as genai\n",
        "\n",
        "# Used to securely store your API key\n",
        "from google.colab import userdata\n",
        "\n",
        "from IPython.display import display\n",
        "from IPython.display import Markdown\n",
        "\n",
        "\n",
        "def to_markdown(text):\n",
        "  text = text.replace('•', '  *')\n",
        "  return Markdown(textwrap.indent(text, '> ', predicate=lambda _: True))"
      ]
    },
    {
      "cell_type": "code",
      "execution_count": null,
      "metadata": {
        "id": "ab9ASynfcIZn"
      },
      "outputs": [],
      "source": [
        "# Or use `os.getenv('GOOGLE_API_KEY')` to fetch an environment variable.\n",
        "GOOGLE_API_KEY=userdata.get('GOOGLE_API_KEY')\n",
        "\n",
        "genai.configure(api_key=GOOGLE_API_KEY)"
      ]
    },
    {
      "cell_type": "code",
      "execution_count": null,
      "metadata": {
        "id": "EtXxgVzmJZzE"
      },
      "outputs": [],
      "source": [
        "model_OCR = genai.GenerativeModel('gemini-pro-vision')\n",
        "model_LLM = genai.GenerativeModel('gemini-pro')"
      ]
    },
    {
      "cell_type": "code",
      "source": [
        "# Run the code to populate the Extracted list\n",
        "i = 1\n",
        "while i<5:\n",
        "  Extracted = []\n",
        "  for dir in pdf_dict[pdf_names[i]]:\n",
        "\n",
        "\n",
        "      image = Image.open(dir)\n",
        "      try:\n",
        "        response = model_OCR.generate_content([\"Extract the text in the image\", image])\n",
        "        LLM_response = model_LLM.generate_content(f\"Please translate the document in English if needed: {str(response.text)} from its original language and provide, if applicable, only the following information in the following format:\"+ prompt)\n",
        "        Extracted.append(str(LLM_response.text))\n",
        "      except Exception as e:\n",
        "          print(f\"An error occurred: {e}\")\n",
        "          Extracted.append(\"Extraction failed\")\n",
        "\n",
        "  # Convert the Extracted list to a DataFrame\n",
        "  data = {'Extracted Text': Extracted}\n",
        "  df = pd.DataFrame(data)\n",
        "\n",
        "  # Specify the path and file name for the Excel file\n",
        "  excel_file_path = '/content/drive/MyDrive/Work/Interview/Evalumine/Extracted_Data'+'/'+pdf_names[i]+'.xlsx'\n",
        "\n",
        "  # Save the DataFrame to an Excel file\n",
        "  df.to_excel(excel_file_path, index=False)\n",
        "  print(f\"Finished:{pdf_names[i]}\")\n",
        "  i=i+1\n"
      ],
      "metadata": {
        "colab": {
          "base_uri": "https://localhost:8080/",
          "height": 1000
        },
        "id": "HvYJUr39YKp8",
        "outputId": "f5d3f9b8-4ed5-4d0c-9d9e-57915a7c651e"
      },
      "execution_count": null,
      "outputs": [
        {
          "output_type": "stream",
          "name": "stdout",
          "text": [
            "An error occurred: The `response.text` quick accessor only works for simple (single-`Part`) text responses. This response is not simple text.Use the `result.parts` accessor or the full `result.candidates[index].content.parts` lookup instead.\n",
            "An error occurred: The `response.text` quick accessor only works for simple (single-`Part`) text responses. This response is not simple text.Use the `result.parts` accessor or the full `result.candidates[index].content.parts` lookup instead.\n",
            "An error occurred: The `response.text` quick accessor only works for simple (single-`Part`) text responses. This response is not simple text.Use the `result.parts` accessor or the full `result.candidates[index].content.parts` lookup instead.\n",
            "An error occurred: The `response.text` quick accessor only works for simple (single-`Part`) text responses. This response is not simple text.Use the `result.parts` accessor or the full `result.candidates[index].content.parts` lookup instead.\n",
            "An error occurred: The `response.text` quick accessor only works for simple (single-`Part`) text responses. This response is not simple text.Use the `result.parts` accessor or the full `result.candidates[index].content.parts` lookup instead.\n",
            "An error occurred: The `response.text` quick accessor only works for simple (single-`Part`) text responses. This response is not simple text.Use the `result.parts` accessor or the full `result.candidates[index].content.parts` lookup instead.\n",
            "An error occurred: The `response.text` quick accessor only works for simple (single-`Part`) text responses. This response is not simple text.Use the `result.parts` accessor or the full `result.candidates[index].content.parts` lookup instead.\n",
            "An error occurred: The `response.text` quick accessor only works for simple (single-`Part`) text responses. This response is not simple text.Use the `result.parts` accessor or the full `result.candidates[index].content.parts` lookup instead.\n",
            "An error occurred: The `response.text` quick accessor only works for simple (single-`Part`) text responses. This response is not simple text.Use the `result.parts` accessor or the full `result.candidates[index].content.parts` lookup instead.\n",
            "An error occurred: The `response.text` quick accessor only works for simple (single-`Part`) text responses. This response is not simple text.Use the `result.parts` accessor or the full `result.candidates[index].content.parts` lookup instead.\n",
            "An error occurred: The `response.text` quick accessor only works for simple (single-`Part`) text responses. This response is not simple text.Use the `result.parts` accessor or the full `result.candidates[index].content.parts` lookup instead.\n",
            "An error occurred: The `response.text` quick accessor only works for simple (single-`Part`) text responses. This response is not simple text.Use the `result.parts` accessor or the full `result.candidates[index].content.parts` lookup instead.\n",
            "An error occurred: The `response.text` quick accessor only works for simple (single-`Part`) text responses. This response is not simple text.Use the `result.parts` accessor or the full `result.candidates[index].content.parts` lookup instead.\n",
            "An error occurred: The `response.text` quick accessor only works for simple (single-`Part`) text responses. This response is not simple text.Use the `result.parts` accessor or the full `result.candidates[index].content.parts` lookup instead.\n",
            "An error occurred: The `response.text` quick accessor only works for simple (single-`Part`) text responses. This response is not simple text.Use the `result.parts` accessor or the full `result.candidates[index].content.parts` lookup instead.\n",
            "An error occurred: The `response.text` quick accessor only works for simple (single-`Part`) text responses. This response is not simple text.Use the `result.parts` accessor or the full `result.candidates[index].content.parts` lookup instead.\n",
            "An error occurred: The `response.text` quick accessor only works for simple (single-`Part`) text responses. This response is not simple text.Use the `result.parts` accessor or the full `result.candidates[index].content.parts` lookup instead.\n",
            "An error occurred: The `response.text` quick accessor only works for simple (single-`Part`) text responses. This response is not simple text.Use the `result.parts` accessor or the full `result.candidates[index].content.parts` lookup instead.\n",
            "An error occurred: The `response.text` quick accessor only works for simple (single-`Part`) text responses. This response is not simple text.Use the `result.parts` accessor or the full `result.candidates[index].content.parts` lookup instead.\n",
            "An error occurred: The `response.text` quick accessor only works for simple (single-`Part`) text responses. This response is not simple text.Use the `result.parts` accessor or the full `result.candidates[index].content.parts` lookup instead.\n",
            "An error occurred: The `response.text` quick accessor only works for simple (single-`Part`) text responses. This response is not simple text.Use the `result.parts` accessor or the full `result.candidates[index].content.parts` lookup instead.\n",
            "An error occurred: The `response.text` quick accessor only works for simple (single-`Part`) text responses. This response is not simple text.Use the `result.parts` accessor or the full `result.candidates[index].content.parts` lookup instead.\n",
            "An error occurred: The `response.text` quick accessor only works for simple (single-`Part`) text responses. This response is not simple text.Use the `result.parts` accessor or the full `result.candidates[index].content.parts` lookup instead.\n",
            "An error occurred: The `response.text` quick accessor only works for simple (single-`Part`) text responses. This response is not simple text.Use the `result.parts` accessor or the full `result.candidates[index].content.parts` lookup instead.\n",
            "An error occurred: The `response.text` quick accessor only works for simple (single-`Part`) text responses. This response is not simple text.Use the `result.parts` accessor or the full `result.candidates[index].content.parts` lookup instead.\n",
            "An error occurred: The `response.text` quick accessor only works for simple (single-`Part`) text responses. This response is not simple text.Use the `result.parts` accessor or the full `result.candidates[index].content.parts` lookup instead.\n",
            "An error occurred: The `response.text` quick accessor only works for simple (single-`Part`) text responses. This response is not simple text.Use the `result.parts` accessor or the full `result.candidates[index].content.parts` lookup instead.\n",
            "An error occurred: The `response.text` quick accessor only works for simple (single-`Part`) text responses. This response is not simple text.Use the `result.parts` accessor or the full `result.candidates[index].content.parts` lookup instead.\n",
            "An error occurred: The `response.text` quick accessor only works for simple (single-`Part`) text responses. This response is not simple text.Use the `result.parts` accessor or the full `result.candidates[index].content.parts` lookup instead.\n",
            "An error occurred: The `response.text` quick accessor only works for simple (single-`Part`) text responses. This response is not simple text.Use the `result.parts` accessor or the full `result.candidates[index].content.parts` lookup instead.\n",
            "An error occurred: The `response.text` quick accessor only works for simple (single-`Part`) text responses. This response is not simple text.Use the `result.parts` accessor or the full `result.candidates[index].content.parts` lookup instead.\n",
            "An error occurred: The `response.text` quick accessor only works for simple (single-`Part`) text responses. This response is not simple text.Use the `result.parts` accessor or the full `result.candidates[index].content.parts` lookup instead.\n",
            "An error occurred: The `response.text` quick accessor only works for simple (single-`Part`) text responses. This response is not simple text.Use the `result.parts` accessor or the full `result.candidates[index].content.parts` lookup instead.\n",
            "An error occurred: The `response.text` quick accessor only works for simple (single-`Part`) text responses. This response is not simple text.Use the `result.parts` accessor or the full `result.candidates[index].content.parts` lookup instead.\n",
            "An error occurred: The `response.text` quick accessor only works for simple (single-`Part`) text responses. This response is not simple text.Use the `result.parts` accessor or the full `result.candidates[index].content.parts` lookup instead.\n",
            "An error occurred: The `response.text` quick accessor only works for simple (single-`Part`) text responses. This response is not simple text.Use the `result.parts` accessor or the full `result.candidates[index].content.parts` lookup instead.\n",
            "An error occurred: The `response.text` quick accessor only works for simple (single-`Part`) text responses. This response is not simple text.Use the `result.parts` accessor or the full `result.candidates[index].content.parts` lookup instead.\n",
            "An error occurred: The `response.text` quick accessor only works for simple (single-`Part`) text responses. This response is not simple text.Use the `result.parts` accessor or the full `result.candidates[index].content.parts` lookup instead.\n",
            "An error occurred: The `response.text` quick accessor only works for simple (single-`Part`) text responses. This response is not simple text.Use the `result.parts` accessor or the full `result.candidates[index].content.parts` lookup instead.\n",
            "An error occurred: The `response.text` quick accessor only works for simple (single-`Part`) text responses. This response is not simple text.Use the `result.parts` accessor or the full `result.candidates[index].content.parts` lookup instead.\n",
            "An error occurred: The `response.text` quick accessor only works for simple (single-`Part`) text responses. This response is not simple text.Use the `result.parts` accessor or the full `result.candidates[index].content.parts` lookup instead.\n",
            "An error occurred: The `response.text` quick accessor only works for simple (single-`Part`) text responses. This response is not simple text.Use the `result.parts` accessor or the full `result.candidates[index].content.parts` lookup instead.\n",
            "An error occurred: The `response.text` quick accessor only works for simple (single-`Part`) text responses. This response is not simple text.Use the `result.parts` accessor or the full `result.candidates[index].content.parts` lookup instead.\n",
            "An error occurred: The `response.text` quick accessor only works for simple (single-`Part`) text responses. This response is not simple text.Use the `result.parts` accessor or the full `result.candidates[index].content.parts` lookup instead.\n",
            "An error occurred: The `response.text` quick accessor only works for simple (single-`Part`) text responses. This response is not simple text.Use the `result.parts` accessor or the full `result.candidates[index].content.parts` lookup instead.\n",
            "An error occurred: The `response.text` quick accessor only works for simple (single-`Part`) text responses. This response is not simple text.Use the `result.parts` accessor or the full `result.candidates[index].content.parts` lookup instead.\n",
            "An error occurred: The `response.text` quick accessor only works for simple (single-`Part`) text responses. This response is not simple text.Use the `result.parts` accessor or the full `result.candidates[index].content.parts` lookup instead.\n",
            "An error occurred: The `response.text` quick accessor only works for simple (single-`Part`) text responses. This response is not simple text.Use the `result.parts` accessor or the full `result.candidates[index].content.parts` lookup instead.\n",
            "An error occurred: The `response.text` quick accessor only works for simple (single-`Part`) text responses. This response is not simple text.Use the `result.parts` accessor or the full `result.candidates[index].content.parts` lookup instead.\n",
            "An error occurred: The `response.text` quick accessor only works for simple (single-`Part`) text responses. This response is not simple text.Use the `result.parts` accessor or the full `result.candidates[index].content.parts` lookup instead.\n",
            "An error occurred: The `response.text` quick accessor only works for simple (single-`Part`) text responses. This response is not simple text.Use the `result.parts` accessor or the full `result.candidates[index].content.parts` lookup instead.\n",
            "An error occurred: The `response.text` quick accessor only works for simple (single-`Part`) text responses. This response is not simple text.Use the `result.parts` accessor or the full `result.candidates[index].content.parts` lookup instead.\n",
            "An error occurred: The `response.text` quick accessor only works for simple (single-`Part`) text responses. This response is not simple text.Use the `result.parts` accessor or the full `result.candidates[index].content.parts` lookup instead.\n",
            "An error occurred: The `response.text` quick accessor only works for simple (single-`Part`) text responses. This response is not simple text.Use the `result.parts` accessor or the full `result.candidates[index].content.parts` lookup instead.\n",
            "An error occurred: The `response.text` quick accessor only works for simple (single-`Part`) text responses. This response is not simple text.Use the `result.parts` accessor or the full `result.candidates[index].content.parts` lookup instead.\n",
            "An error occurred: The `response.text` quick accessor only works for simple (single-`Part`) text responses. This response is not simple text.Use the `result.parts` accessor or the full `result.candidates[index].content.parts` lookup instead.\n",
            "An error occurred: The `response.text` quick accessor only works for simple (single-`Part`) text responses. This response is not simple text.Use the `result.parts` accessor or the full `result.candidates[index].content.parts` lookup instead.\n",
            "An error occurred: The `response.text` quick accessor only works for simple (single-`Part`) text responses. This response is not simple text.Use the `result.parts` accessor or the full `result.candidates[index].content.parts` lookup instead.\n",
            "An error occurred: The `response.text` quick accessor only works for simple (single-`Part`) text responses. This response is not simple text.Use the `result.parts` accessor or the full `result.candidates[index].content.parts` lookup instead.\n",
            "An error occurred: The `response.text` quick accessor only works for simple (single-`Part`) text responses. This response is not simple text.Use the `result.parts` accessor or the full `result.candidates[index].content.parts` lookup instead.\n",
            "An error occurred: The `response.text` quick accessor only works for simple (single-`Part`) text responses. This response is not simple text.Use the `result.parts` accessor or the full `result.candidates[index].content.parts` lookup instead.\n",
            "An error occurred: The `response.text` quick accessor only works for simple (single-`Part`) text responses. This response is not simple text.Use the `result.parts` accessor or the full `result.candidates[index].content.parts` lookup instead.\n",
            "Finished:CAL1013206\n"
          ]
        },
        {
          "output_type": "stream",
          "name": "stderr",
          "text": [
            "ERROR:tornado.access:500 POST /v1beta/models/gemini-pro-vision:generateContent?%24alt=json%3Benum-encoding%3Dint (127.0.0.1) 9058.01ms\n"
          ]
        },
        {
          "output_type": "stream",
          "name": "stdout",
          "text": [
            "An error occurred: 500 POST http://localhost:42519/v1beta/models/gemini-pro-vision:generateContent?%24alt=json%3Benum-encoding%3Dint: An internal error has occurred. Please retry or report in https://developers.generativeai.google/guide/troubleshooting\n",
            "Finished:CAL1013132\n",
            "An error occurred: The `response.text` quick accessor only works for simple (single-`Part`) text responses. This response is not simple text.Use the `result.parts` accessor or the full `result.candidates[index].content.parts` lookup instead.\n",
            "An error occurred: The `response.text` quick accessor only works for simple (single-`Part`) text responses. This response is not simple text.Use the `result.parts` accessor or the full `result.candidates[index].content.parts` lookup instead.\n",
            "An error occurred: The `response.text` quick accessor only works for simple (single-`Part`) text responses. This response is not simple text.Use the `result.parts` accessor or the full `result.candidates[index].content.parts` lookup instead.\n",
            "An error occurred: The `response.parts` quick accessor only works for a single candidate, but none were returned. Check the `response.prompt_feedback` to see if the prompt was blocked.\n",
            "An error occurred: The `response.text` quick accessor only works for simple (single-`Part`) text responses. This response is not simple text.Use the `result.parts` accessor or the full `result.candidates[index].content.parts` lookup instead.\n",
            "An error occurred: The `response.text` quick accessor only works for simple (single-`Part`) text responses. This response is not simple text.Use the `result.parts` accessor or the full `result.candidates[index].content.parts` lookup instead.\n",
            "Finished:CAL1013093\n",
            "An error occurred: The `response.text` quick accessor only works for simple (single-`Part`) text responses. This response is not simple text.Use the `result.parts` accessor or the full `result.candidates[index].content.parts` lookup instead.\n",
            "Finished:CAL1013016\n"
          ]
        }
      ]
    },
    {
      "cell_type": "markdown",
      "source": [
        "# 4 Tesseract OCR & Geminio Enitity Extraction"
      ],
      "metadata": {
        "id": "z35uhG2UxvXr"
      }
    },
    {
      "cell_type": "markdown",
      "source": [
        "I have utilized the Tesseract for text extraction from images, and I have employed Gemini Pro for information extraction. While the model did not perfrom as well as Gemini Vision, it generally performs well considering it is a free model. I stored the data in an Excel sheet and automated the process to run through all the PDFs."
      ],
      "metadata": {
        "id": "V_PHXYljnmoj"
      }
    },
    {
      "cell_type": "markdown",
      "source": [
        "<details>\n",
        "<summary>Configuration of Tesseract</summary>\n",
        "\n",
        "**Common Tesseract configurations and their usages:**\n",
        "\n",
        "Configurations are used to customize the behavior of the Tesseract OCR engine in order to achieve better accuracy and recognition results for different types of images and documents. You can customize these configurations based on your specific use case and requirements to achieve better text recognition results.\n",
        "\n",
        "- The `custom_config` parameter in Pytesseract is used to c**onfigure the Tesseract OCR engine with specific setting**s. The `--oem` flag specifies the OCR Engine Mode, and the `--psm` flag specifies the Page Segmentation Mode.\n",
        "\n",
        "- The `--oem` flag (OCR Engine Mode) specifies **the OCR engine mode to be used**. The value `3` corresponds to the default OCR engine mode, which is based on the LSTM neural network. Other values for the `--oem` flag include `0`, `1`, and `2`, which correspond to different OCR engine modes.\n",
        "\n",
        "- The `--psm` flag (Page Segmentation Mode) **specifies the page segmentation mode to be used**. The value `6` corresponds to treating the image as a single block of text. Other values for the `--psm` flag include `3`, `4`, `7`, and others, which correspond to different page segmentation modes.\n",
        "\n",
        "\n",
        "\n",
        "| Configuration     | Description                                                                                                 | Example Usage                                                                                          | Why Use It                                                                                                                                                     |\n",
        "|-------------------|-------------------------------------------------------------------------------------------------------------|--------------------------------------------------------------------------------------------------------|----------------------------------------------------------------------------------------------------------------------------------------------------------------|\n",
        "| `--oem <value>`   | Specifies the OCR Engine Mode.                                                                              | `--oem 1` - Use Legacy Tesseract OCR Engine                                                             | Use a specific OCR engine mode to achieve better OCR accuracy for different types of images or documents.                                                    |\n",
        "|                   |                                                                                                             | `--oem 3` - Use Default OCR Engine Mode (LSTM Neural Network)                                           | The default mode uses LSTM neural network for improved accuracy.                                                                                                |\n",
        "|                   |                                                                                                             | `--oem 0` - Use Legacy + LSTM OCR Engine Combination                                                     | Combine legacy and LSTM OCR engines to handle a wider range of image types and document layouts.                                                              |\n",
        "| `--psm <value>`   | Specifies the Page Segmentation Mode.                                                                       | `--psm 3` - Automatic Page Segmentation with OSD (Orientation and Script Detection)                    | Use automatic page segmentation with OSD for images with multiple languages and scripts.                                                                        |\n",
        "|                   |                                                                                                             | `--psm 6` - Treat the Image as a Single Block of Text                                                    | Treat the image as a single block of text, suitable for documents with a single column of text.                                                                 |\n",
        "|                   |                                                                                                             | `--psm 11` - Sparse Text with OSD                                                                         | Use sparse text page segmentation with OSD for images containing sparse text.                                                                                    |\n",
        "| `config=<string>` | Provides additional configuration options.                                                                  | `config='-c tessedit_char_whitelist=0123456789'` - Restrict OCR to Only Recognize Digits              | Restrict OCR to recognize only specified characters, such as digits, for specialized text recognition tasks.                                                  |\n",
        "|                   |                                                                                                             | `config='--psm 6 --oem 3 -c tessedit_char_whitelist=0123456789'` - Combine Multiple Configurations     | Combine multiple configurations to fine-tune OCR settings and achieve better accuracy for specific use cases.                                                 |\n",
        "\n",
        "\n",
        "These configurations can be used with Pytesseract by passing them as a string to the `config` parameter when performing OCR on images. For example:\n",
        "\n",
        "```python\n",
        "custom_config = r'--oem 3 --psm 6'\n",
        "text = pytesseract.image_to_string(image, config=custom_config)\n",
        "```\n",
        "\n",
        "\n"
      ],
      "metadata": {
        "id": "06gdsDvyX0Av"
      }
    },
    {
      "cell_type": "code",
      "source": [
        "# Run the code to populate the Extracted list\n",
        "i = 0\n",
        "Extracted = []\n",
        "for dir in pdf_dict[pdf_names[i]]:\n",
        "    image = Image.open(dir)\n",
        "    try:\n",
        "      custom_config = r'--oem 3 --psm 6'\n",
        "      text = pytesseract.image_to_string(image, config=custom_config)\n",
        "      LLM_response = model_LLM.generate_content(f\"Please translate the document {text} from its original language and provide, if applicable, only the following information in the following format: (1. Deed Number, 2. Real Estate, 3. License Plates, 4. Acts, Grantors, 5. Beneficiaries, 6. Values, 7. Identity Document Numbers) and put NA if not applicable\")\n",
        "      Extracted.append(str(LLM_response.text))\n",
        "    except Exception as e:\n",
        "        print(f\"An error occurred: {e}\")\n",
        "        Extracted.append(\"Extraction failed\")\n",
        "\n",
        "# Convert the Extracted list to a DataFrame\n",
        "data = {'Extracted Text': Extracted}\n",
        "df = pd.DataFrame(data)\n",
        "\n",
        "# Specify the path and file name for the Excel file\n",
        "excel_file_path = '/content/drive/MyDrive/Work/Interview/Evalumine/Extracted_Data'+'/'+pdf_names[i]+'_Teseract'+'.xlsx'\n",
        "\n",
        "# Save the DataFrame to an Excel file\n",
        "df.to_excel(excel_file_path, index=False)\n"
      ],
      "metadata": {
        "id": "W2X8ORiZSegI"
      },
      "execution_count": null,
      "outputs": []
    },
    {
      "cell_type": "markdown",
      "source": [
        "# 5 Google Document AI"
      ],
      "metadata": {
        "id": "XbCwbTpEv7HY"
      }
    },
    {
      "cell_type": "markdown",
      "source": [
        "Unfortunately, I was unable to utilize Document AI due to billing issues. I believe its implementation would significantly enhance the extraction process, as it offers various models specifically trained for processing Formated PDFs. In my exploration of using Document AI, I have identified the general steps required for its implementation. Additionally, I discovered that many individuals use examples from the repository as a point of reference.\n",
        "\n",
        "**General Steps for Utilizing Document AI:**\n",
        "\n",
        "1. Select the appropriate Processor (General, Specialized, or Custom).\n",
        "2. Create the processor.\n",
        "3. Retrieve the Model ID and Project ID.\n",
        "4. Choose a suitable repository from the Document AI Repo for the project.\n",
        "5. Modify the repository to include your Model ID and Project ID.\n",
        "\n",
        "[GitHub Link](https://github.com/GoogleCloudPlatform/document-ai-samples)\n",
        "\n",
        "[Reference](https://cloud.google.com/document-ai/docs/videos)"
      ],
      "metadata": {
        "id": "vlBzJFSCjaR0"
      }
    },
    {
      "cell_type": "markdown",
      "source": [
        "[Video Tutorial](https://www.youtube.com/watch?v=RvzhTUZMd84)\n",
        "\n",
        "[Articale Tutorial](https://towardsdatascience.com/how-to-extract-the-text-from-pdfs-using-python-and-the-google-cloud-vision-api-7a0a798adc13)"
      ],
      "metadata": {
        "id": "1EaYpMsD1t0Q"
      }
    },
    {
      "cell_type": "markdown",
      "source": [
        "![](https://cloud.google.com/static/document-ai/docs/images/document-ai-platform.png)"
      ],
      "metadata": {
        "id": "JEeIW2fdD_c8"
      }
    }
  ]
}